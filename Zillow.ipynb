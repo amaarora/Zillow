{
  "nbformat": 4,
  "nbformat_minor": 0,
  "metadata": {
    "colab": {
      "name": "Zillow.ipynb",
      "provenance": [],
      "collapsed_sections": [],
      "machine_shape": "hm"
    },
    "kernelspec": {
      "name": "python3",
      "display_name": "Python 3"
    }
  },
  "cells": [
    {
      "cell_type": "code",
      "metadata": {
        "id": "VBvBG6RsegxK",
        "colab_type": "code",
        "colab": {}
      },
      "source": [
        "# upload kaggle.json first\n",
        "!mkdir ~/.kaggle\n",
        "!cp ./kaggle.json ~/.kaggle"
      ],
      "execution_count": 0,
      "outputs": []
    },
    {
      "cell_type": "code",
      "metadata": {
        "id": "keGmBiPahS8Q",
        "colab_type": "code",
        "colab": {
          "base_uri": "https://localhost:8080/",
          "height": 392
        },
        "outputId": "5ab3fe05-1893-42cb-a20a-bdf0bfc7ad12"
      },
      "source": [
        "!kaggle competitions download -c zillow-prize-1"
      ],
      "execution_count": 2,
      "outputs": [
        {
          "output_type": "stream",
          "text": [
            "Warning: Your Kaggle API key is readable by other users on this system! To fix this, you can run 'chmod 600 /root/.kaggle/kaggle.json'\n",
            "Warning: Looks like you're using an outdated API Version, please consider updating (server 1.5.6 / client 1.5.4)\n",
            "Downloading train_2017.csv.zip to /content\n",
            "  0% 0.00/942k [00:00<?, ?B/s]\n",
            "100% 942k/942k [00:00<00:00, 63.9MB/s]\n",
            "Downloading sample_submission.csv.zip to /content\n",
            " 51% 5.00M/9.86M [00:00<00:00, 13.6MB/s]\n",
            "100% 9.86M/9.86M [00:00<00:00, 24.9MB/s]\n",
            "Downloading train_2016_v2.csv.zip to /content\n",
            "  0% 0.00/643k [00:00<?, ?B/s]\n",
            "100% 643k/643k [00:00<00:00, 89.6MB/s]\n",
            "Downloading properties_2016.csv.zip to /content\n",
            " 94% 153M/163M [00:02<00:00, 58.8MB/s]\n",
            "100% 163M/163M [00:02<00:00, 68.0MB/s]\n",
            "Downloading properties_2017.csv.zip to /content\n",
            " 99% 163M/165M [00:01<00:00, 104MB/s] \n",
            "100% 165M/165M [00:01<00:00, 110MB/s]\n",
            "Downloading zillow_data_dictionary.xlsx to /content\n",
            "  0% 0.00/18.8k [00:00<?, ?B/s]\n",
            "100% 18.8k/18.8k [00:00<00:00, 19.6MB/s]\n"
          ],
          "name": "stdout"
        }
      ]
    },
    {
      "cell_type": "markdown",
      "metadata": {
        "id": "BOQH3NzQk2nj",
        "colab_type": "text"
      },
      "source": [
        "## Unzip Data"
      ]
    },
    {
      "cell_type": "code",
      "metadata": {
        "id": "Hrn_vtiFiEwN",
        "colab_type": "code",
        "colab": {
          "base_uri": "https://localhost:8080/",
          "height": 52
        },
        "outputId": "a829fc30-1364-4722-c074-3ec47bfc666a"
      },
      "source": [
        "!unzip properties_2016.csv.zip\n",
        "!rm properties_2016.csv.zip"
      ],
      "execution_count": 3,
      "outputs": [
        {
          "output_type": "stream",
          "text": [
            "Archive:  properties_2016.csv.zip\n",
            "  inflating: properties_2016.csv     \n"
          ],
          "name": "stdout"
        }
      ]
    },
    {
      "cell_type": "code",
      "metadata": {
        "id": "A0oFRhF7k8tX",
        "colab_type": "code",
        "colab": {}
      },
      "source": [
        "import zipfile\n",
        "import glob \n",
        "import os"
      ],
      "execution_count": 0,
      "outputs": []
    },
    {
      "cell_type": "code",
      "metadata": {
        "id": "8y05f4xkr4JK",
        "colab_type": "code",
        "colab": {
          "base_uri": "https://localhost:8080/",
          "height": 35
        },
        "outputId": "59e20fb5-dc58-4e9f-db8e-18c19fc373f0"
      },
      "source": [
        "csv_files = !ls *.csv\n",
        "csv_files"
      ],
      "execution_count": 5,
      "outputs": [
        {
          "output_type": "execute_result",
          "data": {
            "text/plain": [
              "['properties_2016.csv']"
            ]
          },
          "metadata": {
            "tags": []
          },
          "execution_count": 5
        }
      ]
    },
    {
      "cell_type": "code",
      "metadata": {
        "id": "2aejy1CBoqpc",
        "colab_type": "code",
        "colab": {
          "base_uri": "https://localhost:8080/",
          "height": 52
        },
        "outputId": "31f7fd83-b582-4f16-86fd-611f0721c4e7"
      },
      "source": [
        "## f-strings\n",
        "name = 'man'\n",
        "print(\"My name is {} and {}\".format(1+2, 4+5)) \n",
        "print( f\"My name is {1+2} AND {3+5}\")"
      ],
      "execution_count": 6,
      "outputs": [
        {
          "output_type": "stream",
          "text": [
            "My name is 3 and 9\n",
            "My name is 3 AND 8\n"
          ],
          "name": "stdout"
        }
      ]
    },
    {
      "cell_type": "code",
      "metadata": {
        "id": "PyX-cpU0lS_W",
        "colab_type": "code",
        "colab": {}
      },
      "source": [
        "def unzip_data(src, dest=\".\", remove_all=True):\n",
        "  zipfile.ZipFile(src).extractall(dest)\n",
        "  if remove_all: os.remove(src)\n",
        "  return f\"{src} extraction to {dest} complete\""
      ],
      "execution_count": 0,
      "outputs": []
    },
    {
      "cell_type": "code",
      "metadata": {
        "id": "zQ76Jw8BmQUf",
        "colab_type": "code",
        "colab": {
          "base_uri": "https://localhost:8080/",
          "height": 88
        },
        "outputId": "a7632c4a-693b-45d2-c286-cb8ca7cea7ca"
      },
      "source": [
        "zip_files = glob.glob(\"./*.zip\")\n",
        "zip_files"
      ],
      "execution_count": 8,
      "outputs": [
        {
          "output_type": "execute_result",
          "data": {
            "text/plain": [
              "['./sample_submission.csv.zip',\n",
              " './train_2016_v2.csv.zip',\n",
              " './train_2017.csv.zip',\n",
              " './properties_2017.csv.zip']"
            ]
          },
          "metadata": {
            "tags": []
          },
          "execution_count": 8
        }
      ]
    },
    {
      "cell_type": "code",
      "metadata": {
        "id": "753WxN6SmrUD",
        "colab_type": "code",
        "colab": {
          "base_uri": "https://localhost:8080/",
          "height": 88
        },
        "outputId": "f7b1c8be-fe70-4f06-ca8c-aae2c3848457"
      },
      "source": [
        "list(map(unzip_data, zip_files))"
      ],
      "execution_count": 9,
      "outputs": [
        {
          "output_type": "execute_result",
          "data": {
            "text/plain": [
              "['./sample_submission.csv.zip extraction to . complete',\n",
              " './train_2016_v2.csv.zip extraction to . complete',\n",
              " './train_2017.csv.zip extraction to . complete',\n",
              " './properties_2017.csv.zip extraction to . complete']"
            ]
          },
          "metadata": {
            "tags": []
          },
          "execution_count": 9
        }
      ]
    },
    {
      "cell_type": "code",
      "metadata": {
        "id": "oUCq67o8m6mj",
        "colab_type": "code",
        "colab": {}
      },
      "source": [
        "# for f in zip_files: unzip_data(f)"
      ],
      "execution_count": 0,
      "outputs": []
    },
    {
      "cell_type": "markdown",
      "metadata": {
        "id": "dUb2kHmpua30",
        "colab_type": "text"
      },
      "source": [
        "## Data Exploration"
      ]
    },
    {
      "cell_type": "code",
      "metadata": {
        "id": "xWMbB-BsudsS",
        "colab_type": "code",
        "colab": {}
      },
      "source": [
        "import pandas as pd"
      ],
      "execution_count": 0,
      "outputs": []
    },
    {
      "cell_type": "code",
      "metadata": {
        "id": "982aNk3Cufht",
        "colab_type": "code",
        "colab": {
          "base_uri": "https://localhost:8080/",
          "height": 88
        },
        "outputId": "25fc29db-0a46-4272-c245-b4d1209c6e9c"
      },
      "source": [
        "%%time\n",
        "df_2016 = pd.read_csv(\"./properties_2016.csv\")\n",
        "df_2017 = pd.read_csv(\"./properties_2017.csv\")"
      ],
      "execution_count": 12,
      "outputs": [
        {
          "output_type": "stream",
          "text": [
            "<string>:2: DtypeWarning: Columns (22,32,34,49,55) have mixed types.Specify dtype option on import or set low_memory=False.\n",
            "<string>:2: DtypeWarning: Columns (49) have mixed types.Specify dtype option on import or set low_memory=False.\n"
          ],
          "name": "stderr"
        },
        {
          "output_type": "stream",
          "text": [
            "CPU times: user 21.2 s, sys: 3.56 s, total: 24.7 s\n",
            "Wall time: 24.7 s\n"
          ],
          "name": "stdout"
        }
      ]
    },
    {
      "cell_type": "code",
      "metadata": {
        "id": "_ErSvaC7xQxi",
        "colab_type": "code",
        "colab": {
          "base_uri": "https://localhost:8080/",
          "height": 35
        },
        "outputId": "b4c88b57-3aeb-4cd7-8a95-bf0bc5fd2c7d"
      },
      "source": [
        "[(i==v) for i,v in zip([1,2,3],[1,6,6])]"
      ],
      "execution_count": 13,
      "outputs": [
        {
          "output_type": "execute_result",
          "data": {
            "text/plain": [
              "[True, False, False]"
            ]
          },
          "metadata": {
            "tags": []
          },
          "execution_count": 13
        }
      ]
    },
    {
      "cell_type": "code",
      "metadata": {
        "id": "Fe_eKqQXwbLh",
        "colab_type": "code",
        "colab": {
          "base_uri": "https://localhost:8080/",
          "height": 35
        },
        "outputId": "61b828fd-2ce0-4460-9747-7af9b487070b"
      },
      "source": [
        "sum([i==v for i,v in zip(df_2016.columns,df_2017.columns)]) == 58"
      ],
      "execution_count": 14,
      "outputs": [
        {
          "output_type": "execute_result",
          "data": {
            "text/plain": [
              "True"
            ]
          },
          "metadata": {
            "tags": []
          },
          "execution_count": 14
        }
      ]
    },
    {
      "cell_type": "code",
      "metadata": {
        "id": "6sUCw9qTvpgX",
        "colab_type": "code",
        "colab": {
          "base_uri": "https://localhost:8080/",
          "height": 35
        },
        "outputId": "23356911-eb3c-46fd-d945-6b295f022e18"
      },
      "source": [
        "df_2016.shape, df_2017.shape"
      ],
      "execution_count": 15,
      "outputs": [
        {
          "output_type": "execute_result",
          "data": {
            "text/plain": [
              "((2985217, 58), (2985217, 58))"
            ]
          },
          "metadata": {
            "tags": []
          },
          "execution_count": 15
        }
      ]
    },
    {
      "cell_type": "code",
      "metadata": {
        "id": "OTVaEu3zv3wY",
        "colab_type": "code",
        "colab": {
          "base_uri": "https://localhost:8080/",
          "height": 35
        },
        "outputId": "e701e859-81f1-42fd-c232-8a9b1b518a78"
      },
      "source": [
        "# combine the two dataframes\n",
        "df = pd.concat([df_2016, df_2017])\n",
        "df.shape"
      ],
      "execution_count": 16,
      "outputs": [
        {
          "output_type": "execute_result",
          "data": {
            "text/plain": [
              "(5970434, 58)"
            ]
          },
          "metadata": {
            "tags": []
          },
          "execution_count": 16
        }
      ]
    },
    {
      "cell_type": "code",
      "metadata": {
        "id": "5RODnkiZv7WK",
        "colab_type": "code",
        "colab": {
          "base_uri": "https://localhost:8080/",
          "height": 52
        },
        "outputId": "625db351-9c0b-4ee8-b287-8d487a7f4998"
      },
      "source": [
        "%%time\n",
        "trn_2016 = pd.read_csv(\"./train_2016_v2.csv\")\n",
        "trn_2017 = pd.read_csv(\"./train_2017.csv\")"
      ],
      "execution_count": 17,
      "outputs": [
        {
          "output_type": "stream",
          "text": [
            "CPU times: user 77.2 ms, sys: 1.86 ms, total: 79.1 ms\n",
            "Wall time: 76.9 ms\n"
          ],
          "name": "stdout"
        }
      ]
    },
    {
      "cell_type": "code",
      "metadata": {
        "id": "5P6uWvvsxx5m",
        "colab_type": "code",
        "colab": {
          "base_uri": "https://localhost:8080/",
          "height": 35
        },
        "outputId": "1eab33f7-f2de-443a-be16-8a316f7ee67a"
      },
      "source": [
        "trn_2016.shape, trn_2017.shape"
      ],
      "execution_count": 18,
      "outputs": [
        {
          "output_type": "execute_result",
          "data": {
            "text/plain": [
              "((90275, 3), (77613, 3))"
            ]
          },
          "metadata": {
            "tags": []
          },
          "execution_count": 18
        }
      ]
    },
    {
      "cell_type": "code",
      "metadata": {
        "id": "alaT-1Iyx7At",
        "colab_type": "code",
        "colab": {
          "base_uri": "https://localhost:8080/",
          "height": 35
        },
        "outputId": "0c2cb74b-d19a-479e-839f-665b4e9d3c7f"
      },
      "source": [
        "trn = pd.concat([trn_2016, trn_2017])\n",
        "trn.shape"
      ],
      "execution_count": 19,
      "outputs": [
        {
          "output_type": "execute_result",
          "data": {
            "text/plain": [
              "(167888, 3)"
            ]
          },
          "metadata": {
            "tags": []
          },
          "execution_count": 19
        }
      ]
    },
    {
      "cell_type": "code",
      "metadata": {
        "id": "GBv9qNpTyAxv",
        "colab_type": "code",
        "colab": {
          "base_uri": "https://localhost:8080/",
          "height": 200
        },
        "outputId": "863a1575-e6d4-40ea-b79c-0c43469060ae"
      },
      "source": [
        "trn.head()"
      ],
      "execution_count": 20,
      "outputs": [
        {
          "output_type": "execute_result",
          "data": {
            "text/html": [
              "<div>\n",
              "<style scoped>\n",
              "    .dataframe tbody tr th:only-of-type {\n",
              "        vertical-align: middle;\n",
              "    }\n",
              "\n",
              "    .dataframe tbody tr th {\n",
              "        vertical-align: top;\n",
              "    }\n",
              "\n",
              "    .dataframe thead th {\n",
              "        text-align: right;\n",
              "    }\n",
              "</style>\n",
              "<table border=\"1\" class=\"dataframe\">\n",
              "  <thead>\n",
              "    <tr style=\"text-align: right;\">\n",
              "      <th></th>\n",
              "      <th>parcelid</th>\n",
              "      <th>logerror</th>\n",
              "      <th>transactiondate</th>\n",
              "    </tr>\n",
              "  </thead>\n",
              "  <tbody>\n",
              "    <tr>\n",
              "      <th>0</th>\n",
              "      <td>11016594</td>\n",
              "      <td>0.0276</td>\n",
              "      <td>2016-01-01</td>\n",
              "    </tr>\n",
              "    <tr>\n",
              "      <th>1</th>\n",
              "      <td>14366692</td>\n",
              "      <td>-0.1684</td>\n",
              "      <td>2016-01-01</td>\n",
              "    </tr>\n",
              "    <tr>\n",
              "      <th>2</th>\n",
              "      <td>12098116</td>\n",
              "      <td>-0.0040</td>\n",
              "      <td>2016-01-01</td>\n",
              "    </tr>\n",
              "    <tr>\n",
              "      <th>3</th>\n",
              "      <td>12643413</td>\n",
              "      <td>0.0218</td>\n",
              "      <td>2016-01-02</td>\n",
              "    </tr>\n",
              "    <tr>\n",
              "      <th>4</th>\n",
              "      <td>14432541</td>\n",
              "      <td>-0.0050</td>\n",
              "      <td>2016-01-02</td>\n",
              "    </tr>\n",
              "  </tbody>\n",
              "</table>\n",
              "</div>"
            ],
            "text/plain": [
              "   parcelid  logerror transactiondate\n",
              "0  11016594    0.0276      2016-01-01\n",
              "1  14366692   -0.1684      2016-01-01\n",
              "2  12098116   -0.0040      2016-01-01\n",
              "3  12643413    0.0218      2016-01-02\n",
              "4  14432541   -0.0050      2016-01-02"
            ]
          },
          "metadata": {
            "tags": []
          },
          "execution_count": 20
        }
      ]
    },
    {
      "cell_type": "code",
      "metadata": {
        "id": "QN3Bta5TyBqg",
        "colab_type": "code",
        "colab": {
          "base_uri": "https://localhost:8080/",
          "height": 1000
        },
        "outputId": "96f36536-d758-4a93-803b-acec8c893c29"
      },
      "source": [
        "df.head(2).T"
      ],
      "execution_count": 21,
      "outputs": [
        {
          "output_type": "execute_result",
          "data": {
            "text/html": [
              "<div>\n",
              "<style scoped>\n",
              "    .dataframe tbody tr th:only-of-type {\n",
              "        vertical-align: middle;\n",
              "    }\n",
              "\n",
              "    .dataframe tbody tr th {\n",
              "        vertical-align: top;\n",
              "    }\n",
              "\n",
              "    .dataframe thead th {\n",
              "        text-align: right;\n",
              "    }\n",
              "</style>\n",
              "<table border=\"1\" class=\"dataframe\">\n",
              "  <thead>\n",
              "    <tr style=\"text-align: right;\">\n",
              "      <th></th>\n",
              "      <th>0</th>\n",
              "      <th>1</th>\n",
              "    </tr>\n",
              "  </thead>\n",
              "  <tbody>\n",
              "    <tr>\n",
              "      <th>parcelid</th>\n",
              "      <td>10754147</td>\n",
              "      <td>10759547</td>\n",
              "    </tr>\n",
              "    <tr>\n",
              "      <th>airconditioningtypeid</th>\n",
              "      <td>NaN</td>\n",
              "      <td>NaN</td>\n",
              "    </tr>\n",
              "    <tr>\n",
              "      <th>architecturalstyletypeid</th>\n",
              "      <td>NaN</td>\n",
              "      <td>NaN</td>\n",
              "    </tr>\n",
              "    <tr>\n",
              "      <th>basementsqft</th>\n",
              "      <td>NaN</td>\n",
              "      <td>NaN</td>\n",
              "    </tr>\n",
              "    <tr>\n",
              "      <th>bathroomcnt</th>\n",
              "      <td>0</td>\n",
              "      <td>0</td>\n",
              "    </tr>\n",
              "    <tr>\n",
              "      <th>bedroomcnt</th>\n",
              "      <td>0</td>\n",
              "      <td>0</td>\n",
              "    </tr>\n",
              "    <tr>\n",
              "      <th>buildingclasstypeid</th>\n",
              "      <td>NaN</td>\n",
              "      <td>NaN</td>\n",
              "    </tr>\n",
              "    <tr>\n",
              "      <th>buildingqualitytypeid</th>\n",
              "      <td>NaN</td>\n",
              "      <td>NaN</td>\n",
              "    </tr>\n",
              "    <tr>\n",
              "      <th>calculatedbathnbr</th>\n",
              "      <td>NaN</td>\n",
              "      <td>NaN</td>\n",
              "    </tr>\n",
              "    <tr>\n",
              "      <th>decktypeid</th>\n",
              "      <td>NaN</td>\n",
              "      <td>NaN</td>\n",
              "    </tr>\n",
              "    <tr>\n",
              "      <th>finishedfloor1squarefeet</th>\n",
              "      <td>NaN</td>\n",
              "      <td>NaN</td>\n",
              "    </tr>\n",
              "    <tr>\n",
              "      <th>calculatedfinishedsquarefeet</th>\n",
              "      <td>NaN</td>\n",
              "      <td>NaN</td>\n",
              "    </tr>\n",
              "    <tr>\n",
              "      <th>finishedsquarefeet12</th>\n",
              "      <td>NaN</td>\n",
              "      <td>NaN</td>\n",
              "    </tr>\n",
              "    <tr>\n",
              "      <th>finishedsquarefeet13</th>\n",
              "      <td>NaN</td>\n",
              "      <td>NaN</td>\n",
              "    </tr>\n",
              "    <tr>\n",
              "      <th>finishedsquarefeet15</th>\n",
              "      <td>NaN</td>\n",
              "      <td>NaN</td>\n",
              "    </tr>\n",
              "    <tr>\n",
              "      <th>finishedsquarefeet50</th>\n",
              "      <td>NaN</td>\n",
              "      <td>NaN</td>\n",
              "    </tr>\n",
              "    <tr>\n",
              "      <th>finishedsquarefeet6</th>\n",
              "      <td>NaN</td>\n",
              "      <td>NaN</td>\n",
              "    </tr>\n",
              "    <tr>\n",
              "      <th>fips</th>\n",
              "      <td>6037</td>\n",
              "      <td>6037</td>\n",
              "    </tr>\n",
              "    <tr>\n",
              "      <th>fireplacecnt</th>\n",
              "      <td>NaN</td>\n",
              "      <td>NaN</td>\n",
              "    </tr>\n",
              "    <tr>\n",
              "      <th>fullbathcnt</th>\n",
              "      <td>NaN</td>\n",
              "      <td>NaN</td>\n",
              "    </tr>\n",
              "    <tr>\n",
              "      <th>garagecarcnt</th>\n",
              "      <td>NaN</td>\n",
              "      <td>NaN</td>\n",
              "    </tr>\n",
              "    <tr>\n",
              "      <th>garagetotalsqft</th>\n",
              "      <td>NaN</td>\n",
              "      <td>NaN</td>\n",
              "    </tr>\n",
              "    <tr>\n",
              "      <th>hashottuborspa</th>\n",
              "      <td>NaN</td>\n",
              "      <td>NaN</td>\n",
              "    </tr>\n",
              "    <tr>\n",
              "      <th>heatingorsystemtypeid</th>\n",
              "      <td>NaN</td>\n",
              "      <td>NaN</td>\n",
              "    </tr>\n",
              "    <tr>\n",
              "      <th>latitude</th>\n",
              "      <td>3.41444e+07</td>\n",
              "      <td>3.41404e+07</td>\n",
              "    </tr>\n",
              "    <tr>\n",
              "      <th>longitude</th>\n",
              "      <td>-1.18654e+08</td>\n",
              "      <td>-1.18625e+08</td>\n",
              "    </tr>\n",
              "    <tr>\n",
              "      <th>lotsizesquarefeet</th>\n",
              "      <td>85768</td>\n",
              "      <td>4083</td>\n",
              "    </tr>\n",
              "    <tr>\n",
              "      <th>poolcnt</th>\n",
              "      <td>NaN</td>\n",
              "      <td>NaN</td>\n",
              "    </tr>\n",
              "    <tr>\n",
              "      <th>poolsizesum</th>\n",
              "      <td>NaN</td>\n",
              "      <td>NaN</td>\n",
              "    </tr>\n",
              "    <tr>\n",
              "      <th>pooltypeid10</th>\n",
              "      <td>NaN</td>\n",
              "      <td>NaN</td>\n",
              "    </tr>\n",
              "    <tr>\n",
              "      <th>pooltypeid2</th>\n",
              "      <td>NaN</td>\n",
              "      <td>NaN</td>\n",
              "    </tr>\n",
              "    <tr>\n",
              "      <th>pooltypeid7</th>\n",
              "      <td>NaN</td>\n",
              "      <td>NaN</td>\n",
              "    </tr>\n",
              "    <tr>\n",
              "      <th>propertycountylandusecode</th>\n",
              "      <td>010D</td>\n",
              "      <td>0109</td>\n",
              "    </tr>\n",
              "    <tr>\n",
              "      <th>propertylandusetypeid</th>\n",
              "      <td>269</td>\n",
              "      <td>261</td>\n",
              "    </tr>\n",
              "    <tr>\n",
              "      <th>propertyzoningdesc</th>\n",
              "      <td>NaN</td>\n",
              "      <td>LCA11*</td>\n",
              "    </tr>\n",
              "    <tr>\n",
              "      <th>rawcensustractandblock</th>\n",
              "      <td>6.0378e+07</td>\n",
              "      <td>6.0378e+07</td>\n",
              "    </tr>\n",
              "    <tr>\n",
              "      <th>regionidcity</th>\n",
              "      <td>37688</td>\n",
              "      <td>37688</td>\n",
              "    </tr>\n",
              "    <tr>\n",
              "      <th>regionidcounty</th>\n",
              "      <td>3101</td>\n",
              "      <td>3101</td>\n",
              "    </tr>\n",
              "    <tr>\n",
              "      <th>regionidneighborhood</th>\n",
              "      <td>NaN</td>\n",
              "      <td>NaN</td>\n",
              "    </tr>\n",
              "    <tr>\n",
              "      <th>regionidzip</th>\n",
              "      <td>96337</td>\n",
              "      <td>96337</td>\n",
              "    </tr>\n",
              "    <tr>\n",
              "      <th>roomcnt</th>\n",
              "      <td>0</td>\n",
              "      <td>0</td>\n",
              "    </tr>\n",
              "    <tr>\n",
              "      <th>storytypeid</th>\n",
              "      <td>NaN</td>\n",
              "      <td>NaN</td>\n",
              "    </tr>\n",
              "    <tr>\n",
              "      <th>threequarterbathnbr</th>\n",
              "      <td>NaN</td>\n",
              "      <td>NaN</td>\n",
              "    </tr>\n",
              "    <tr>\n",
              "      <th>typeconstructiontypeid</th>\n",
              "      <td>NaN</td>\n",
              "      <td>NaN</td>\n",
              "    </tr>\n",
              "    <tr>\n",
              "      <th>unitcnt</th>\n",
              "      <td>NaN</td>\n",
              "      <td>NaN</td>\n",
              "    </tr>\n",
              "    <tr>\n",
              "      <th>yardbuildingsqft17</th>\n",
              "      <td>NaN</td>\n",
              "      <td>NaN</td>\n",
              "    </tr>\n",
              "    <tr>\n",
              "      <th>yardbuildingsqft26</th>\n",
              "      <td>NaN</td>\n",
              "      <td>NaN</td>\n",
              "    </tr>\n",
              "    <tr>\n",
              "      <th>yearbuilt</th>\n",
              "      <td>NaN</td>\n",
              "      <td>NaN</td>\n",
              "    </tr>\n",
              "    <tr>\n",
              "      <th>numberofstories</th>\n",
              "      <td>NaN</td>\n",
              "      <td>NaN</td>\n",
              "    </tr>\n",
              "    <tr>\n",
              "      <th>fireplaceflag</th>\n",
              "      <td>NaN</td>\n",
              "      <td>NaN</td>\n",
              "    </tr>\n",
              "    <tr>\n",
              "      <th>structuretaxvaluedollarcnt</th>\n",
              "      <td>NaN</td>\n",
              "      <td>NaN</td>\n",
              "    </tr>\n",
              "    <tr>\n",
              "      <th>taxvaluedollarcnt</th>\n",
              "      <td>9</td>\n",
              "      <td>27516</td>\n",
              "    </tr>\n",
              "    <tr>\n",
              "      <th>assessmentyear</th>\n",
              "      <td>2015</td>\n",
              "      <td>2015</td>\n",
              "    </tr>\n",
              "    <tr>\n",
              "      <th>landtaxvaluedollarcnt</th>\n",
              "      <td>9</td>\n",
              "      <td>27516</td>\n",
              "    </tr>\n",
              "    <tr>\n",
              "      <th>taxamount</th>\n",
              "      <td>NaN</td>\n",
              "      <td>NaN</td>\n",
              "    </tr>\n",
              "    <tr>\n",
              "      <th>taxdelinquencyflag</th>\n",
              "      <td>NaN</td>\n",
              "      <td>NaN</td>\n",
              "    </tr>\n",
              "    <tr>\n",
              "      <th>taxdelinquencyyear</th>\n",
              "      <td>NaN</td>\n",
              "      <td>NaN</td>\n",
              "    </tr>\n",
              "    <tr>\n",
              "      <th>censustractandblock</th>\n",
              "      <td>NaN</td>\n",
              "      <td>NaN</td>\n",
              "    </tr>\n",
              "  </tbody>\n",
              "</table>\n",
              "</div>"
            ],
            "text/plain": [
              "                                        0            1\n",
              "parcelid                         10754147     10759547\n",
              "airconditioningtypeid                 NaN          NaN\n",
              "architecturalstyletypeid              NaN          NaN\n",
              "basementsqft                          NaN          NaN\n",
              "bathroomcnt                             0            0\n",
              "bedroomcnt                              0            0\n",
              "buildingclasstypeid                   NaN          NaN\n",
              "buildingqualitytypeid                 NaN          NaN\n",
              "calculatedbathnbr                     NaN          NaN\n",
              "decktypeid                            NaN          NaN\n",
              "finishedfloor1squarefeet              NaN          NaN\n",
              "calculatedfinishedsquarefeet          NaN          NaN\n",
              "finishedsquarefeet12                  NaN          NaN\n",
              "finishedsquarefeet13                  NaN          NaN\n",
              "finishedsquarefeet15                  NaN          NaN\n",
              "finishedsquarefeet50                  NaN          NaN\n",
              "finishedsquarefeet6                   NaN          NaN\n",
              "fips                                 6037         6037\n",
              "fireplacecnt                          NaN          NaN\n",
              "fullbathcnt                           NaN          NaN\n",
              "garagecarcnt                          NaN          NaN\n",
              "garagetotalsqft                       NaN          NaN\n",
              "hashottuborspa                        NaN          NaN\n",
              "heatingorsystemtypeid                 NaN          NaN\n",
              "latitude                      3.41444e+07  3.41404e+07\n",
              "longitude                    -1.18654e+08 -1.18625e+08\n",
              "lotsizesquarefeet                   85768         4083\n",
              "poolcnt                               NaN          NaN\n",
              "poolsizesum                           NaN          NaN\n",
              "pooltypeid10                          NaN          NaN\n",
              "pooltypeid2                           NaN          NaN\n",
              "pooltypeid7                           NaN          NaN\n",
              "propertycountylandusecode            010D         0109\n",
              "propertylandusetypeid                 269          261\n",
              "propertyzoningdesc                    NaN       LCA11*\n",
              "rawcensustractandblock         6.0378e+07   6.0378e+07\n",
              "regionidcity                        37688        37688\n",
              "regionidcounty                       3101         3101\n",
              "regionidneighborhood                  NaN          NaN\n",
              "regionidzip                         96337        96337\n",
              "roomcnt                                 0            0\n",
              "storytypeid                           NaN          NaN\n",
              "threequarterbathnbr                   NaN          NaN\n",
              "typeconstructiontypeid                NaN          NaN\n",
              "unitcnt                               NaN          NaN\n",
              "yardbuildingsqft17                    NaN          NaN\n",
              "yardbuildingsqft26                    NaN          NaN\n",
              "yearbuilt                             NaN          NaN\n",
              "numberofstories                       NaN          NaN\n",
              "fireplaceflag                         NaN          NaN\n",
              "structuretaxvaluedollarcnt            NaN          NaN\n",
              "taxvaluedollarcnt                       9        27516\n",
              "assessmentyear                       2015         2015\n",
              "landtaxvaluedollarcnt                   9        27516\n",
              "taxamount                             NaN          NaN\n",
              "taxdelinquencyflag                    NaN          NaN\n",
              "taxdelinquencyyear                    NaN          NaN\n",
              "censustractandblock                   NaN          NaN"
            ]
          },
          "metadata": {
            "tags": []
          },
          "execution_count": 21
        }
      ]
    },
    {
      "cell_type": "code",
      "metadata": {
        "id": "owfHewhmyE6t",
        "colab_type": "code",
        "colab": {
          "base_uri": "https://localhost:8080/",
          "height": 52
        },
        "outputId": "979d69ad-26ff-454f-a954-dfe7725b4d7c"
      },
      "source": [
        "%%time\n",
        "df = pd.merge(trn, df)"
      ],
      "execution_count": 22,
      "outputs": [
        {
          "output_type": "stream",
          "text": [
            "CPU times: user 5.65 s, sys: 4.58 s, total: 10.2 s\n",
            "Wall time: 10.2 s\n"
          ],
          "name": "stdout"
        }
      ]
    },
    {
      "cell_type": "code",
      "metadata": {
        "id": "_PuqCFaVyfgj",
        "colab_type": "code",
        "colab": {
          "base_uri": "https://localhost:8080/",
          "height": 35
        },
        "outputId": "3c58e3a7-f74b-4bd9-81fd-f1ba6d5b8aac"
      },
      "source": [
        "df.shape"
      ],
      "execution_count": 23,
      "outputs": [
        {
          "output_type": "execute_result",
          "data": {
            "text/plain": [
              "(335776, 60)"
            ]
          },
          "metadata": {
            "tags": []
          },
          "execution_count": 23
        }
      ]
    },
    {
      "cell_type": "code",
      "metadata": {
        "id": "R0fMAxykzG6z",
        "colab_type": "code",
        "colab": {
          "base_uri": "https://localhost:8080/",
          "height": 1000
        },
        "outputId": "40d9e637-ed68-4d21-f10a-018a256b0266"
      },
      "source": [
        "df.head().T"
      ],
      "execution_count": 24,
      "outputs": [
        {
          "output_type": "execute_result",
          "data": {
            "text/html": [
              "<div>\n",
              "<style scoped>\n",
              "    .dataframe tbody tr th:only-of-type {\n",
              "        vertical-align: middle;\n",
              "    }\n",
              "\n",
              "    .dataframe tbody tr th {\n",
              "        vertical-align: top;\n",
              "    }\n",
              "\n",
              "    .dataframe thead th {\n",
              "        text-align: right;\n",
              "    }\n",
              "</style>\n",
              "<table border=\"1\" class=\"dataframe\">\n",
              "  <thead>\n",
              "    <tr style=\"text-align: right;\">\n",
              "      <th></th>\n",
              "      <th>0</th>\n",
              "      <th>1</th>\n",
              "      <th>2</th>\n",
              "      <th>3</th>\n",
              "      <th>4</th>\n",
              "    </tr>\n",
              "  </thead>\n",
              "  <tbody>\n",
              "    <tr>\n",
              "      <th>parcelid</th>\n",
              "      <td>11016594</td>\n",
              "      <td>11016594</td>\n",
              "      <td>14366692</td>\n",
              "      <td>14366692</td>\n",
              "      <td>14366692</td>\n",
              "    </tr>\n",
              "    <tr>\n",
              "      <th>logerror</th>\n",
              "      <td>0.0276</td>\n",
              "      <td>0.0276</td>\n",
              "      <td>-0.1684</td>\n",
              "      <td>-0.1684</td>\n",
              "      <td>0.00214159</td>\n",
              "    </tr>\n",
              "    <tr>\n",
              "      <th>transactiondate</th>\n",
              "      <td>2016-01-01</td>\n",
              "      <td>2016-01-01</td>\n",
              "      <td>2016-01-01</td>\n",
              "      <td>2016-01-01</td>\n",
              "      <td>2017-08-04</td>\n",
              "    </tr>\n",
              "    <tr>\n",
              "      <th>airconditioningtypeid</th>\n",
              "      <td>1</td>\n",
              "      <td>1</td>\n",
              "      <td>NaN</td>\n",
              "      <td>NaN</td>\n",
              "      <td>NaN</td>\n",
              "    </tr>\n",
              "    <tr>\n",
              "      <th>architecturalstyletypeid</th>\n",
              "      <td>NaN</td>\n",
              "      <td>NaN</td>\n",
              "      <td>NaN</td>\n",
              "      <td>NaN</td>\n",
              "      <td>NaN</td>\n",
              "    </tr>\n",
              "    <tr>\n",
              "      <th>basementsqft</th>\n",
              "      <td>NaN</td>\n",
              "      <td>NaN</td>\n",
              "      <td>NaN</td>\n",
              "      <td>NaN</td>\n",
              "      <td>NaN</td>\n",
              "    </tr>\n",
              "    <tr>\n",
              "      <th>bathroomcnt</th>\n",
              "      <td>2</td>\n",
              "      <td>2</td>\n",
              "      <td>3.5</td>\n",
              "      <td>3.5</td>\n",
              "      <td>3.5</td>\n",
              "    </tr>\n",
              "    <tr>\n",
              "      <th>bedroomcnt</th>\n",
              "      <td>3</td>\n",
              "      <td>3</td>\n",
              "      <td>4</td>\n",
              "      <td>4</td>\n",
              "      <td>4</td>\n",
              "    </tr>\n",
              "    <tr>\n",
              "      <th>buildingclasstypeid</th>\n",
              "      <td>NaN</td>\n",
              "      <td>NaN</td>\n",
              "      <td>NaN</td>\n",
              "      <td>NaN</td>\n",
              "      <td>NaN</td>\n",
              "    </tr>\n",
              "    <tr>\n",
              "      <th>buildingqualitytypeid</th>\n",
              "      <td>4</td>\n",
              "      <td>8</td>\n",
              "      <td>NaN</td>\n",
              "      <td>NaN</td>\n",
              "      <td>NaN</td>\n",
              "    </tr>\n",
              "    <tr>\n",
              "      <th>calculatedbathnbr</th>\n",
              "      <td>2</td>\n",
              "      <td>2</td>\n",
              "      <td>3.5</td>\n",
              "      <td>3.5</td>\n",
              "      <td>3.5</td>\n",
              "    </tr>\n",
              "    <tr>\n",
              "      <th>decktypeid</th>\n",
              "      <td>NaN</td>\n",
              "      <td>NaN</td>\n",
              "      <td>NaN</td>\n",
              "      <td>NaN</td>\n",
              "      <td>NaN</td>\n",
              "    </tr>\n",
              "    <tr>\n",
              "      <th>finishedfloor1squarefeet</th>\n",
              "      <td>NaN</td>\n",
              "      <td>NaN</td>\n",
              "      <td>NaN</td>\n",
              "      <td>NaN</td>\n",
              "      <td>NaN</td>\n",
              "    </tr>\n",
              "    <tr>\n",
              "      <th>calculatedfinishedsquarefeet</th>\n",
              "      <td>1684</td>\n",
              "      <td>1684</td>\n",
              "      <td>2263</td>\n",
              "      <td>2263</td>\n",
              "      <td>2263</td>\n",
              "    </tr>\n",
              "    <tr>\n",
              "      <th>finishedsquarefeet12</th>\n",
              "      <td>1684</td>\n",
              "      <td>1684</td>\n",
              "      <td>2263</td>\n",
              "      <td>2263</td>\n",
              "      <td>2263</td>\n",
              "    </tr>\n",
              "    <tr>\n",
              "      <th>finishedsquarefeet13</th>\n",
              "      <td>NaN</td>\n",
              "      <td>NaN</td>\n",
              "      <td>NaN</td>\n",
              "      <td>NaN</td>\n",
              "      <td>NaN</td>\n",
              "    </tr>\n",
              "    <tr>\n",
              "      <th>finishedsquarefeet15</th>\n",
              "      <td>NaN</td>\n",
              "      <td>NaN</td>\n",
              "      <td>NaN</td>\n",
              "      <td>NaN</td>\n",
              "      <td>NaN</td>\n",
              "    </tr>\n",
              "    <tr>\n",
              "      <th>finishedsquarefeet50</th>\n",
              "      <td>NaN</td>\n",
              "      <td>NaN</td>\n",
              "      <td>NaN</td>\n",
              "      <td>NaN</td>\n",
              "      <td>NaN</td>\n",
              "    </tr>\n",
              "    <tr>\n",
              "      <th>finishedsquarefeet6</th>\n",
              "      <td>NaN</td>\n",
              "      <td>NaN</td>\n",
              "      <td>NaN</td>\n",
              "      <td>NaN</td>\n",
              "      <td>NaN</td>\n",
              "    </tr>\n",
              "    <tr>\n",
              "      <th>fips</th>\n",
              "      <td>6037</td>\n",
              "      <td>6037</td>\n",
              "      <td>6059</td>\n",
              "      <td>6059</td>\n",
              "      <td>6059</td>\n",
              "    </tr>\n",
              "    <tr>\n",
              "      <th>fireplacecnt</th>\n",
              "      <td>NaN</td>\n",
              "      <td>NaN</td>\n",
              "      <td>NaN</td>\n",
              "      <td>NaN</td>\n",
              "      <td>NaN</td>\n",
              "    </tr>\n",
              "    <tr>\n",
              "      <th>fullbathcnt</th>\n",
              "      <td>2</td>\n",
              "      <td>2</td>\n",
              "      <td>3</td>\n",
              "      <td>3</td>\n",
              "      <td>3</td>\n",
              "    </tr>\n",
              "    <tr>\n",
              "      <th>garagecarcnt</th>\n",
              "      <td>NaN</td>\n",
              "      <td>NaN</td>\n",
              "      <td>2</td>\n",
              "      <td>2</td>\n",
              "      <td>2</td>\n",
              "    </tr>\n",
              "    <tr>\n",
              "      <th>garagetotalsqft</th>\n",
              "      <td>NaN</td>\n",
              "      <td>NaN</td>\n",
              "      <td>468</td>\n",
              "      <td>468</td>\n",
              "      <td>468</td>\n",
              "    </tr>\n",
              "    <tr>\n",
              "      <th>hashottuborspa</th>\n",
              "      <td>NaN</td>\n",
              "      <td>NaN</td>\n",
              "      <td>NaN</td>\n",
              "      <td>NaN</td>\n",
              "      <td>NaN</td>\n",
              "    </tr>\n",
              "    <tr>\n",
              "      <th>heatingorsystemtypeid</th>\n",
              "      <td>2</td>\n",
              "      <td>2</td>\n",
              "      <td>NaN</td>\n",
              "      <td>NaN</td>\n",
              "      <td>NaN</td>\n",
              "    </tr>\n",
              "    <tr>\n",
              "      <th>latitude</th>\n",
              "      <td>3.4281e+07</td>\n",
              "      <td>3.4281e+07</td>\n",
              "      <td>3.36681e+07</td>\n",
              "      <td>3.36681e+07</td>\n",
              "      <td>3.36681e+07</td>\n",
              "    </tr>\n",
              "    <tr>\n",
              "      <th>longitude</th>\n",
              "      <td>-1.18489e+08</td>\n",
              "      <td>-1.18489e+08</td>\n",
              "      <td>-1.17678e+08</td>\n",
              "      <td>-1.17678e+08</td>\n",
              "      <td>-1.17678e+08</td>\n",
              "    </tr>\n",
              "    <tr>\n",
              "      <th>lotsizesquarefeet</th>\n",
              "      <td>7528</td>\n",
              "      <td>7528</td>\n",
              "      <td>3643</td>\n",
              "      <td>3643</td>\n",
              "      <td>3643</td>\n",
              "    </tr>\n",
              "    <tr>\n",
              "      <th>poolcnt</th>\n",
              "      <td>NaN</td>\n",
              "      <td>NaN</td>\n",
              "      <td>NaN</td>\n",
              "      <td>NaN</td>\n",
              "      <td>NaN</td>\n",
              "    </tr>\n",
              "    <tr>\n",
              "      <th>poolsizesum</th>\n",
              "      <td>NaN</td>\n",
              "      <td>NaN</td>\n",
              "      <td>NaN</td>\n",
              "      <td>NaN</td>\n",
              "      <td>NaN</td>\n",
              "    </tr>\n",
              "    <tr>\n",
              "      <th>pooltypeid10</th>\n",
              "      <td>NaN</td>\n",
              "      <td>NaN</td>\n",
              "      <td>NaN</td>\n",
              "      <td>NaN</td>\n",
              "      <td>NaN</td>\n",
              "    </tr>\n",
              "    <tr>\n",
              "      <th>pooltypeid2</th>\n",
              "      <td>NaN</td>\n",
              "      <td>NaN</td>\n",
              "      <td>NaN</td>\n",
              "      <td>NaN</td>\n",
              "      <td>NaN</td>\n",
              "    </tr>\n",
              "    <tr>\n",
              "      <th>pooltypeid7</th>\n",
              "      <td>NaN</td>\n",
              "      <td>NaN</td>\n",
              "      <td>NaN</td>\n",
              "      <td>NaN</td>\n",
              "      <td>NaN</td>\n",
              "    </tr>\n",
              "    <tr>\n",
              "      <th>propertycountylandusecode</th>\n",
              "      <td>0100</td>\n",
              "      <td>0100</td>\n",
              "      <td>1</td>\n",
              "      <td>1</td>\n",
              "      <td>1</td>\n",
              "    </tr>\n",
              "    <tr>\n",
              "      <th>propertylandusetypeid</th>\n",
              "      <td>261</td>\n",
              "      <td>261</td>\n",
              "      <td>261</td>\n",
              "      <td>261</td>\n",
              "      <td>261</td>\n",
              "    </tr>\n",
              "    <tr>\n",
              "      <th>propertyzoningdesc</th>\n",
              "      <td>LARS</td>\n",
              "      <td>LARS</td>\n",
              "      <td>NaN</td>\n",
              "      <td>NaN</td>\n",
              "      <td>NaN</td>\n",
              "    </tr>\n",
              "    <tr>\n",
              "      <th>rawcensustractandblock</th>\n",
              "      <td>6.03711e+07</td>\n",
              "      <td>6.03711e+07</td>\n",
              "      <td>6.05905e+07</td>\n",
              "      <td>6.05905e+07</td>\n",
              "      <td>6.05905e+07</td>\n",
              "    </tr>\n",
              "    <tr>\n",
              "      <th>regionidcity</th>\n",
              "      <td>12447</td>\n",
              "      <td>12447</td>\n",
              "      <td>32380</td>\n",
              "      <td>32380</td>\n",
              "      <td>32380</td>\n",
              "    </tr>\n",
              "    <tr>\n",
              "      <th>regionidcounty</th>\n",
              "      <td>3101</td>\n",
              "      <td>3101</td>\n",
              "      <td>1286</td>\n",
              "      <td>1286</td>\n",
              "      <td>1286</td>\n",
              "    </tr>\n",
              "    <tr>\n",
              "      <th>regionidneighborhood</th>\n",
              "      <td>31817</td>\n",
              "      <td>31817</td>\n",
              "      <td>NaN</td>\n",
              "      <td>NaN</td>\n",
              "      <td>NaN</td>\n",
              "    </tr>\n",
              "    <tr>\n",
              "      <th>regionidzip</th>\n",
              "      <td>96370</td>\n",
              "      <td>96370</td>\n",
              "      <td>96962</td>\n",
              "      <td>96962</td>\n",
              "      <td>96962</td>\n",
              "    </tr>\n",
              "    <tr>\n",
              "      <th>roomcnt</th>\n",
              "      <td>0</td>\n",
              "      <td>0</td>\n",
              "      <td>0</td>\n",
              "      <td>0</td>\n",
              "      <td>0</td>\n",
              "    </tr>\n",
              "    <tr>\n",
              "      <th>storytypeid</th>\n",
              "      <td>NaN</td>\n",
              "      <td>NaN</td>\n",
              "      <td>NaN</td>\n",
              "      <td>NaN</td>\n",
              "      <td>NaN</td>\n",
              "    </tr>\n",
              "    <tr>\n",
              "      <th>threequarterbathnbr</th>\n",
              "      <td>NaN</td>\n",
              "      <td>NaN</td>\n",
              "      <td>1</td>\n",
              "      <td>1</td>\n",
              "      <td>1</td>\n",
              "    </tr>\n",
              "    <tr>\n",
              "      <th>typeconstructiontypeid</th>\n",
              "      <td>NaN</td>\n",
              "      <td>NaN</td>\n",
              "      <td>NaN</td>\n",
              "      <td>NaN</td>\n",
              "      <td>NaN</td>\n",
              "    </tr>\n",
              "    <tr>\n",
              "      <th>unitcnt</th>\n",
              "      <td>1</td>\n",
              "      <td>1</td>\n",
              "      <td>NaN</td>\n",
              "      <td>NaN</td>\n",
              "      <td>NaN</td>\n",
              "    </tr>\n",
              "    <tr>\n",
              "      <th>yardbuildingsqft17</th>\n",
              "      <td>NaN</td>\n",
              "      <td>NaN</td>\n",
              "      <td>NaN</td>\n",
              "      <td>NaN</td>\n",
              "      <td>NaN</td>\n",
              "    </tr>\n",
              "    <tr>\n",
              "      <th>yardbuildingsqft26</th>\n",
              "      <td>NaN</td>\n",
              "      <td>NaN</td>\n",
              "      <td>NaN</td>\n",
              "      <td>NaN</td>\n",
              "      <td>NaN</td>\n",
              "    </tr>\n",
              "    <tr>\n",
              "      <th>yearbuilt</th>\n",
              "      <td>1959</td>\n",
              "      <td>1959</td>\n",
              "      <td>2014</td>\n",
              "      <td>2014</td>\n",
              "      <td>2014</td>\n",
              "    </tr>\n",
              "    <tr>\n",
              "      <th>numberofstories</th>\n",
              "      <td>NaN</td>\n",
              "      <td>NaN</td>\n",
              "      <td>NaN</td>\n",
              "      <td>NaN</td>\n",
              "      <td>NaN</td>\n",
              "    </tr>\n",
              "    <tr>\n",
              "      <th>fireplaceflag</th>\n",
              "      <td>NaN</td>\n",
              "      <td>NaN</td>\n",
              "      <td>NaN</td>\n",
              "      <td>NaN</td>\n",
              "      <td>NaN</td>\n",
              "    </tr>\n",
              "    <tr>\n",
              "      <th>structuretaxvaluedollarcnt</th>\n",
              "      <td>122754</td>\n",
              "      <td>218000</td>\n",
              "      <td>346458</td>\n",
              "      <td>346458</td>\n",
              "      <td>346458</td>\n",
              "    </tr>\n",
              "    <tr>\n",
              "      <th>taxvaluedollarcnt</th>\n",
              "      <td>360170</td>\n",
              "      <td>545000</td>\n",
              "      <td>585529</td>\n",
              "      <td>974900</td>\n",
              "      <td>585529</td>\n",
              "    </tr>\n",
              "    <tr>\n",
              "      <th>assessmentyear</th>\n",
              "      <td>2015</td>\n",
              "      <td>2016</td>\n",
              "      <td>2015</td>\n",
              "      <td>2016</td>\n",
              "      <td>2015</td>\n",
              "    </tr>\n",
              "    <tr>\n",
              "      <th>landtaxvaluedollarcnt</th>\n",
              "      <td>237416</td>\n",
              "      <td>327000</td>\n",
              "      <td>239071</td>\n",
              "      <td>628442</td>\n",
              "      <td>239071</td>\n",
              "    </tr>\n",
              "    <tr>\n",
              "      <th>taxamount</th>\n",
              "      <td>6735.88</td>\n",
              "      <td>6735.88</td>\n",
              "      <td>10153</td>\n",
              "      <td>10153</td>\n",
              "      <td>10153</td>\n",
              "    </tr>\n",
              "    <tr>\n",
              "      <th>taxdelinquencyflag</th>\n",
              "      <td>NaN</td>\n",
              "      <td>NaN</td>\n",
              "      <td>NaN</td>\n",
              "      <td>NaN</td>\n",
              "      <td>NaN</td>\n",
              "    </tr>\n",
              "    <tr>\n",
              "      <th>taxdelinquencyyear</th>\n",
              "      <td>NaN</td>\n",
              "      <td>NaN</td>\n",
              "      <td>NaN</td>\n",
              "      <td>NaN</td>\n",
              "      <td>NaN</td>\n",
              "    </tr>\n",
              "    <tr>\n",
              "      <th>censustractandblock</th>\n",
              "      <td>6.03711e+13</td>\n",
              "      <td>6.03711e+13</td>\n",
              "      <td>NaN</td>\n",
              "      <td>NaN</td>\n",
              "      <td>NaN</td>\n",
              "    </tr>\n",
              "  </tbody>\n",
              "</table>\n",
              "</div>"
            ],
            "text/plain": [
              "                                        0  ...            4\n",
              "parcelid                         11016594  ...     14366692\n",
              "logerror                           0.0276  ...   0.00214159\n",
              "transactiondate                2016-01-01  ...   2017-08-04\n",
              "airconditioningtypeid                   1  ...          NaN\n",
              "architecturalstyletypeid              NaN  ...          NaN\n",
              "basementsqft                          NaN  ...          NaN\n",
              "bathroomcnt                             2  ...          3.5\n",
              "bedroomcnt                              3  ...            4\n",
              "buildingclasstypeid                   NaN  ...          NaN\n",
              "buildingqualitytypeid                   4  ...          NaN\n",
              "calculatedbathnbr                       2  ...          3.5\n",
              "decktypeid                            NaN  ...          NaN\n",
              "finishedfloor1squarefeet              NaN  ...          NaN\n",
              "calculatedfinishedsquarefeet         1684  ...         2263\n",
              "finishedsquarefeet12                 1684  ...         2263\n",
              "finishedsquarefeet13                  NaN  ...          NaN\n",
              "finishedsquarefeet15                  NaN  ...          NaN\n",
              "finishedsquarefeet50                  NaN  ...          NaN\n",
              "finishedsquarefeet6                   NaN  ...          NaN\n",
              "fips                                 6037  ...         6059\n",
              "fireplacecnt                          NaN  ...          NaN\n",
              "fullbathcnt                             2  ...            3\n",
              "garagecarcnt                          NaN  ...            2\n",
              "garagetotalsqft                       NaN  ...          468\n",
              "hashottuborspa                        NaN  ...          NaN\n",
              "heatingorsystemtypeid                   2  ...          NaN\n",
              "latitude                       3.4281e+07  ...  3.36681e+07\n",
              "longitude                    -1.18489e+08  ... -1.17678e+08\n",
              "lotsizesquarefeet                    7528  ...         3643\n",
              "poolcnt                               NaN  ...          NaN\n",
              "poolsizesum                           NaN  ...          NaN\n",
              "pooltypeid10                          NaN  ...          NaN\n",
              "pooltypeid2                           NaN  ...          NaN\n",
              "pooltypeid7                           NaN  ...          NaN\n",
              "propertycountylandusecode            0100  ...            1\n",
              "propertylandusetypeid                 261  ...          261\n",
              "propertyzoningdesc                   LARS  ...          NaN\n",
              "rawcensustractandblock        6.03711e+07  ...  6.05905e+07\n",
              "regionidcity                        12447  ...        32380\n",
              "regionidcounty                       3101  ...         1286\n",
              "regionidneighborhood                31817  ...          NaN\n",
              "regionidzip                         96370  ...        96962\n",
              "roomcnt                                 0  ...            0\n",
              "storytypeid                           NaN  ...          NaN\n",
              "threequarterbathnbr                   NaN  ...            1\n",
              "typeconstructiontypeid                NaN  ...          NaN\n",
              "unitcnt                                 1  ...          NaN\n",
              "yardbuildingsqft17                    NaN  ...          NaN\n",
              "yardbuildingsqft26                    NaN  ...          NaN\n",
              "yearbuilt                            1959  ...         2014\n",
              "numberofstories                       NaN  ...          NaN\n",
              "fireplaceflag                         NaN  ...          NaN\n",
              "structuretaxvaluedollarcnt         122754  ...       346458\n",
              "taxvaluedollarcnt                  360170  ...       585529\n",
              "assessmentyear                       2015  ...         2015\n",
              "landtaxvaluedollarcnt              237416  ...       239071\n",
              "taxamount                         6735.88  ...        10153\n",
              "taxdelinquencyflag                    NaN  ...          NaN\n",
              "taxdelinquencyyear                    NaN  ...          NaN\n",
              "censustractandblock           6.03711e+13  ...          NaN\n",
              "\n",
              "[60 rows x 5 columns]"
            ]
          },
          "metadata": {
            "tags": []
          },
          "execution_count": 24
        }
      ]
    }
  ]
}